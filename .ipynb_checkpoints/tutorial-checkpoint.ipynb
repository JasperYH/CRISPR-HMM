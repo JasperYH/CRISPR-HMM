{
 "cells": [
  {
   "cell_type": "code",
   "execution_count": null,
   "id": "d42fbb15",
   "metadata": {},
   "outputs": [],
   "source": [
    "import crispr_hmm\n",
    "from Bio import SeqIO\n",
    "import os"
   ]
  },
  {
   "cell_type": "code",
   "execution_count": null,
   "id": "2d597ab2",
   "metadata": {},
   "outputs": [],
   "source": [
    "ref = \"ACACCATGGTGCATCTGACTCCTGTGGAGAAGTCTGCCGTTACTGCCCTG\"\n",
    "\n",
    "# Read data\n",
    "fq_file = os.path.join(os.path.dirname(os.path.dirname(crispr_hmm.__file__)), \n",
    "                       'data', 'example.fastq')\n",
    "data = SeqIO.parse(fq_file,\"fastq\")\n",
    "\n",
    "# Count the occurance of sequences for faster processing\n",
    "counter = {}\n",
    "for record in data:\n",
    "    t = record.seq._data.decode()\n",
    "    \n",
    "    if t.count(\"N\")>0: # exclude sequences that contain N\n",
    "        continue\n",
    "        \n",
    "    if t not in counter:\n",
    "        counter[t] = 1\n",
    "    else:\n",
    "        counter[t] += 1\n",
    "\n",
    "        \n",
    "# Select the top sequences (has occurance greater or equal to k) for model fitting\n",
    "k = 2\n",
    "sorted_data = sorted(counter.items(), key=lambda item: item[1], reverse=True)\n",
    "top_sequences_dict = [i for i in sorted_data if i[0] != ref and i[1] >= k]\n",
    "top_sequences = [key for key, value in top_sequences_dict for _ in range(value)]\n",
    "top_sequences_dict"
   ]
  },
  {
   "cell_type": "code",
   "execution_count": null,
   "id": "1d4bc881",
   "metadata": {},
   "outputs": [],
   "source": [
    "# initiate an CRISPR HMM model object\n",
    "model = crispr_hmm.hmm_model(ref)\n",
    "# estimate parameters with top sequences\n",
    "model.estimate_param(top_sequences,ncores=1)"
   ]
  },
  {
   "cell_type": "code",
   "execution_count": null,
   "id": "fdbd0755",
   "metadata": {},
   "outputs": [],
   "source": [
    "# plot the transition probability. Delta: match -> deletion, tau: match -> insertion\n",
    "p = crispr_hmm.plot_params(model)"
   ]
  },
  {
   "cell_type": "code",
   "execution_count": null,
   "id": "246e2a0d",
   "metadata": {},
   "outputs": [],
   "source": [
    "# align sequences with the Viterbi algorithm\n",
    "\n",
    "my_sequences = [\n",
    "    'ACACCATGGTGCATCTGACTCTGTGGAGAAGTCTGCCGTTACTGCCCTG',\n",
    "    'ACACCATGGTGCATCTGTGGAGAAGTCTGCCGTTACTGCCCTG',\n",
    "    'ACACCATGGTGCATCTGACTGTGGAGAAGTCTGCCGTTACTGCCCTG',\n",
    "    'ACACCATGGTGCATCTGACTCCCTGTGGAGAAGTCTGCCGTTACTGCCCTG',\n",
    "    'ACACCATGGTGCATCTGACTCGTGGAGAAGTCTGCCGTTACTGCCCTG',\n",
    "    'ACACCATGGTGGAGAAGTCTGCCGTTACTGCCCTG',\n",
    "    'ACACCATGGTGCATCTGACTCTCCTGTGGAGAAGTCTGCCGTTACTGCCCTG',\n",
    "    'ACACCATGGTGCATCTGCCGTTACTGCCCTG',\n",
    "    'ACACCATGGTGCATCTGCTGTGGAGAAGTCTGCCGTTACTGCCCTG',\n",
    "    'ACACCATGGTGCATCTGACTCGAAGTCTGCCGTTACTGCCCTG',\n",
    "    'ACACCATGGTGCTGTGGAGAAGTCTGCCGTTACTGCCCTG']\n",
    "\n",
    "for r in model.viterbi(my_sequences,ncores=1):\n",
    "    print(\"Ref:     \" + r[0])\n",
    "    print(\"Seq:     \" + r[1])\n",
    "    print(\"log(P):  \" + str(round(r[2], 2)))"
   ]
  },
  {
   "cell_type": "code",
   "execution_count": null,
   "id": "2ad9003f",
   "metadata": {},
   "outputs": [],
   "source": []
  }
 ],
 "metadata": {
  "kernelspec": {
   "display_name": "Python 3 (ipykernel)",
   "language": "python",
   "name": "python3"
  },
  "language_info": {
   "codemirror_mode": {
    "name": "ipython",
    "version": 3
   },
   "file_extension": ".py",
   "mimetype": "text/x-python",
   "name": "python",
   "nbconvert_exporter": "python",
   "pygments_lexer": "ipython3",
   "version": "3.9.13"
  }
 },
 "nbformat": 4,
 "nbformat_minor": 5
}
